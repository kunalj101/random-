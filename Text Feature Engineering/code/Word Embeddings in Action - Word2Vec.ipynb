{
 "cells": [
  {
   "cell_type": "markdown",
   "metadata": {},
   "source": [
    "## Word Embeddings in Action - Word2Vec\n",
    "\n",
    " - Word embeddings are a really useful way of converting text into a format that is interpretable to the model while still keeping it's semantic meaning intact.\n",
    " - Now that you have already learnt the theory behind Word2Vec, in this notebook you will learn how to utilize it practically on a real-world data set.\n",
    " \n",
    "With the expectation set, let's start without much ado!\n",
    "\n",
    "![](../images/word2vec.png)\n",
    " \n",
    "### Table of Contents\n",
    " \n",
    "1. About the dataset\n",
    "2. Creating your own Word2Vec model\n",
    "    - Installing gensim\n",
    "    - Preprocess text\n",
    "    - Train Word2Vec\n",
    "    - Embedding of a given word\n",
    "    - Find contextually similar words; given a target word\n",
    "    - Why to train your own Word2Vec?\n",
    "3. Visualizing Word2Vec embeddings \n",
    "4. Utilizing Google's pretrained Word2Vec\n",
    "    - Installing\n",
    "    - Contextual relationship between words \n",
    "5. Text Classification using Word2Vec\n",
    "    - Using your own model\n",
    "    - Using Google's pre-trained model\n",
    "6. Conclusion\n",
    "\n",
    "### 1. About the Dataset\n",
    "\n",
    "The dataset that you are going to use is a collection of news articles from BBC across 5 major categories, namely:\n",
    " \n",
    " - Business\n",
    " - Entertainment\n",
    " - Politics\n",
    " - Sport\n",
    " - Tech\n",
    "\n",
    "There are a total of 2225 articles in the dataset, which is a mix of all of the above categories. Let's load the dataset using pandas and have a quick look at some of the articles. \n",
    "\n",
    "**Note:** You can get the dataset [here](https://trainings.analyticsvidhya.com/asset-v1:AnalyticsVidhya+LP_DL_2019+2019_T1+type@asset+block@bbc_news_mixed.csv)\n"
   ]
  },
  {
   "cell_type": "code",
   "execution_count": 1,
   "metadata": {},
   "outputs": [
    {
     "data": {
      "text/html": [
       "<div>\n",
       "<style scoped>\n",
       "    .dataframe tbody tr th:only-of-type {\n",
       "        vertical-align: middle;\n",
       "    }\n",
       "\n",
       "    .dataframe tbody tr th {\n",
       "        vertical-align: top;\n",
       "    }\n",
       "\n",
       "    .dataframe thead th {\n",
       "        text-align: right;\n",
       "    }\n",
       "</style>\n",
       "<table border=\"1\" class=\"dataframe\">\n",
       "  <thead>\n",
       "    <tr style=\"text-align: right;\">\n",
       "      <th></th>\n",
       "      <th>text</th>\n",
       "      <th>label</th>\n",
       "    </tr>\n",
       "  </thead>\n",
       "  <tbody>\n",
       "    <tr>\n",
       "      <th>0</th>\n",
       "      <td>Cairn shares slump on oil setback\\n\\nShares in...</td>\n",
       "      <td>business</td>\n",
       "    </tr>\n",
       "    <tr>\n",
       "      <th>1</th>\n",
       "      <td>Egypt to sell off state-owned bank\\n\\nThe Egyp...</td>\n",
       "      <td>business</td>\n",
       "    </tr>\n",
       "    <tr>\n",
       "      <th>2</th>\n",
       "      <td>Cairn shares up on new oil find\\n\\nShares in C...</td>\n",
       "      <td>business</td>\n",
       "    </tr>\n",
       "    <tr>\n",
       "      <th>3</th>\n",
       "      <td>Low-cost airlines hit Eurotunnel\\n\\nChannel Tu...</td>\n",
       "      <td>business</td>\n",
       "    </tr>\n",
       "    <tr>\n",
       "      <th>4</th>\n",
       "      <td>Parmalat to return to stockmarket\\n\\nParmalat,...</td>\n",
       "      <td>business</td>\n",
       "    </tr>\n",
       "  </tbody>\n",
       "</table>\n",
       "</div>"
      ],
      "text/plain": [
       "                                                text     label\n",
       "0  Cairn shares slump on oil setback\\n\\nShares in...  business\n",
       "1  Egypt to sell off state-owned bank\\n\\nThe Egyp...  business\n",
       "2  Cairn shares up on new oil find\\n\\nShares in C...  business\n",
       "3  Low-cost airlines hit Eurotunnel\\n\\nChannel Tu...  business\n",
       "4  Parmalat to return to stockmarket\\n\\nParmalat,...  business"
      ]
     },
     "execution_count": 1,
     "metadata": {},
     "output_type": "execute_result"
    }
   ],
   "source": [
    "import pandas as pd\n",
    "import numpy as np\n",
    "\n",
    "# Load the dataset\n",
    "bbc_news = pd.read_csv('../datasets/bbc_news_mixed.csv')\n",
    "bbc_news.head()"
   ]
  },
  {
   "cell_type": "code",
   "execution_count": 71,
   "metadata": {
    "scrolled": true
   },
   "outputs": [
    {
     "name": "stdout",
     "output_type": "stream",
     "text": [
      "Cairn shares slump on oil setback\n",
      "\n",
      "Shares in Cairn Energy, a UK oil firm, have closed down 18% after a disappointing drilling update and a warning over possible tax demands.\n",
      "\n",
      "The company said tests ha\n",
      "Egypt to sell off state-owned bank\n",
      "\n",
      "The Egyptian government is reportedly planning to privatise one of the country's big public banks.\n",
      "\n",
      "An Investment Ministry official has told the Reuters news agency\n"
     ]
    }
   ],
   "source": [
    "# print first 2 articles\n",
    "for art in bbc_news.text[:2]:\n",
    "    print(art[:200])"
   ]
  },
  {
   "cell_type": "markdown",
   "metadata": {},
   "source": [
    "Now that you have an idea of how your data looks like, let's see the count of each category in the dataset!"
   ]
  },
  {
   "cell_type": "code",
   "execution_count": 3,
   "metadata": {},
   "outputs": [
    {
     "data": {
      "text/plain": [
       "sport            511\n",
       "business         510\n",
       "politics         417\n",
       "tech             401\n",
       "entertainment    386\n",
       "Name: label, dtype: int64"
      ]
     },
     "execution_count": 3,
     "metadata": {},
     "output_type": "execute_result"
    }
   ],
   "source": [
    "# category-wise count\n",
    "bbc_news.label.value_counts()"
   ]
  },
  {
   "cell_type": "markdown",
   "metadata": {},
   "source": [
    "### 2. Creating your own Word2Vec model\n",
    "\n",
    " - [Word2Vec](https://code.google.com/archive/p/word2vec/) is an embedding that was developed at Google and has proven to be very effective for various NLP tasks.\n",
    " - For this tutorial, you'll be using [gensim](https://radimrehurek.com/gensim/index.html) which is an NLP library that provides an easier way to work with Word2Vec.\n",
    " \n",
    "#### a. Installing gensim\n",
    "\n",
    "Installing gensim is fairly easy, you can follow the following steps for installation: \n",
    "\n",
    "1. Go to your terminal and type\n",
    "\n",
    "  `pip install --upgrade gensim`\n",
    "\n",
    "2. Once you have run the above command succesfully, you are ready to go!\n",
    "\n",
    "#### b. Preprocess text\n",
    "\n",
    " - Gensim provides a utility `simple_preprocess()` that performs basic preprocessing such as lower casing the text, tokenizing and ignoring tokens that are too small(lenght of 2) or too big(length of 15) in the corpus. \n",
    " - Note that you can choose these values(2 and 15) by passing the `min_len` and `max_len` parameters to the function. \n",
    " \n",
    "Let's preprocess the first news article and see the output."
   ]
  },
  {
   "cell_type": "code",
   "execution_count": 72,
   "metadata": {
    "scrolled": true
   },
   "outputs": [
    {
     "name": "stdout",
     "output_type": "stream",
     "text": [
      "['cairn', 'shares', 'slump', 'on', 'oil', 'setback', 'shares', 'in', 'cairn', 'energy', 'uk', 'oil', 'firm', 'have', 'closed', 'down', 'after', 'disappointing', 'drilling', 'update', 'and', 'warning', 'over', 'possible', 'tax', 'demands', 'the', 'company', 'said', 'tests', 'had', 'shown', 'no', 'significant', 'finds', 'in', 'one', 'of', 'its', 'indian', 'oil', 'fields', 'but', 'was', 'upbeat', 'about', 'the', 'potential', 'of', 'other', 'areas', 'it', 'also', 'said', 'the', 'indian', 'government', 'had', 'told', 'it', 'to', 'pay', 'production', 'tax', 'for', 'which', 'cairn', 'argues', 'it', 'is', 'not', 'liable', 'cairn', 'shares', 'have', 'jumped', 'by', 'almost', 'this', 'year', 'investors', 'had', 'piled', 'into', 'cairn', 'after', 'the', 'company', 'announced', 'significant', 'oil', 'finds', 'in', 'india', 'this', 'year', 'chief', 'executive', 'bill', 'gammell', 'said', 'on', 'friday', 'he', 'was', 'disappointed', 'with', 'exploration', 'in', 'the', 'so', 'called', 'extension', 'area', 'in', 'rajasthan', 'investors', 'had', 'held', 'high', 'hopes', 'of', 'major', 'oil', 'finds', 'in', 'this', 'area', 'but', 'cairn', 'said', 'estimates', 'had', 'been', 'revised', 'in', 'what', 'was', 'significant', 'downgrade', 'of', 'the', 'initial', 'expectation', 'cairn', 'also', 'said', 'that', 'the', 'government', 'believed', 'the', 'company', 'was', 'liable', 'to', 'pay', 'taxes', 'under', 'its', 'production', 'sharing', 'contract', 'the', 'company', 'said', 'the', 'rate', 'would', 'be', 'about', 'rupees', 'per', 'tonne', 'or', 'seven', 'barrels', 'of', 'oil', 'spokesman', 'for', 'the', 'firm', 'said', 'that', 'the', 'tax', 'would', 'wipe', 'of', 'the', 'field', 'current', 'value', 'cairn', 'refutes', 'the', 'government', 'position', 'mr']\n"
     ]
    }
   ],
   "source": [
    "# importing simple_preprocess\n",
    "from gensim.utils import simple_preprocess\n",
    "\n",
    "# check the output of simple_preprocess on the first article\n",
    "print(simple_preprocess(bbc_news.text[0])[:200])"
   ]
  },
  {
   "cell_type": "markdown",
   "metadata": {},
   "source": [
    "As you can see, the article has been tokenized, words are converted to lower case for consistency and you can use this little utility for quick preprocessing in your projects. Let's preprocess articles of the entire dataset."
   ]
  },
  {
   "cell_type": "code",
   "execution_count": 5,
   "metadata": {},
   "outputs": [
    {
     "data": {
      "text/plain": [
       "0    [cairn, shares, slump, on, oil, setback, share...\n",
       "1    [egypt, to, sell, off, state, owned, bank, the...\n",
       "2    [cairn, shares, up, on, new, oil, find, shares...\n",
       "3    [low, cost, airlines, hit, eurotunnel, channel...\n",
       "4    [parmalat, to, return, to, stockmarket, parmal...\n",
       "5    [making, your, office, work, for, you, our, mi...\n",
       "6    [mexican, in, us, send, bn, home, mexican, lab...\n",
       "7    [asia, shares, defy, post, quake, gloom, indon...\n",
       "8    [german, bidder, in, talks, with, lse, deutsch...\n",
       "9    [bank, payout, to, pinochet, victims, us, bank...\n",
       "Name: text, dtype: object"
      ]
     },
     "execution_count": 5,
     "metadata": {},
     "output_type": "execute_result"
    }
   ],
   "source": [
    "# preprocess all the articles of the data set\n",
    "preprocessed_bbc = bbc_news.text.apply(lambda x: simple_preprocess(x))\n",
    "preprocessed_bbc[:10]"
   ]
  },
  {
   "cell_type": "markdown",
   "metadata": {},
   "source": [
    "#### c. Train Word2Vec"
   ]
  },
  {
   "cell_type": "markdown",
   "metadata": {},
   "source": [
    "There are many parameters that can be utilized while training this model in gensim; some of the important ones are:\n",
    "\n",
    " - **size**: (default 100) The number of dimensions of the embedding, e.g. the length of the dense vector to represent each token (word).\n",
    " - **window**: (default 5) The maximum distance between a target word and words around the target word.\n",
    " - **min_count**: (default 5) The minimum count of words to consider when training the model; words with an occurrence less than this count will be ignored.\n",
    " - **sg**: (default 0 or CBOW) The training algorithm, either CBOW (0) or skip gram (1).\n",
    " \n",
    "In the following case, you will be using an embedding of size 300 and will be training a **skip gram** variant of word2vec which means given a center word, the model should be able to predict words that fall in the context of the center word."
   ]
  },
  {
   "cell_type": "code",
   "execution_count": 6,
   "metadata": {},
   "outputs": [],
   "source": [
    "# import word2vec\n",
    "from gensim.models import Word2Vec\n",
    "\n",
    "# train a word2vec model from the given data set\n",
    "w2v_model = Word2Vec(preprocessed_bbc, size=300, min_count=2, sg=1)"
   ]
  },
  {
   "cell_type": "markdown",
   "metadata": {},
   "source": [
    "Now that the model is trained, you can play around with it a bit.\n",
    "\n",
    "Let's start by checking the vocabulary size and some of the words of the vocabulary."
   ]
  },
  {
   "cell_type": "code",
   "execution_count": 7,
   "metadata": {},
   "outputs": [
    {
     "name": "stdout",
     "output_type": "stream",
     "text": [
      "vocabulary size: 18588\n"
     ]
    }
   ],
   "source": [
    "# vocabulary size\n",
    "print('vocabulary size:', len(w2v_model.wv.vocab))"
   ]
  },
  {
   "cell_type": "code",
   "execution_count": 80,
   "metadata": {},
   "outputs": [
    {
     "data": {
      "text/plain": [
       "[('cairn', <gensim.models.keyedvectors.Vocab at 0x7f61777cc240>),\n",
       " ('shares', <gensim.models.keyedvectors.Vocab at 0x7f61777cc390>),\n",
       " ('slump', <gensim.models.keyedvectors.Vocab at 0x7f61777cc320>),\n",
       " ('on', <gensim.models.keyedvectors.Vocab at 0x7f61777cc278>),\n",
       " ('oil', <gensim.models.keyedvectors.Vocab at 0x7f61777cc400>),\n",
       " ('setback', <gensim.models.keyedvectors.Vocab at 0x7f61777cc358>),\n",
       " ('in', <gensim.models.keyedvectors.Vocab at 0x7f61777cc470>),\n",
       " ('energy', <gensim.models.keyedvectors.Vocab at 0x7f61777cc4a8>),\n",
       " ('uk', <gensim.models.keyedvectors.Vocab at 0x7f61777cc4e0>),\n",
       " ('firm', <gensim.models.keyedvectors.Vocab at 0x7f61777cc588>),\n",
       " ('have', <gensim.models.keyedvectors.Vocab at 0x7f61777cc550>),\n",
       " ('closed', <gensim.models.keyedvectors.Vocab at 0x7f61777cc518>),\n",
       " ('down', <gensim.models.keyedvectors.Vocab at 0x7f61777cc5c0>),\n",
       " ('after', <gensim.models.keyedvectors.Vocab at 0x7f61777cc5f8>),\n",
       " ('disappointing', <gensim.models.keyedvectors.Vocab at 0x7f61777cc630>),\n",
       " ('drilling', <gensim.models.keyedvectors.Vocab at 0x7f61777cc668>),\n",
       " ('update', <gensim.models.keyedvectors.Vocab at 0x7f61777cc3c8>),\n",
       " ('and', <gensim.models.keyedvectors.Vocab at 0x7f61777cc438>),\n",
       " ('warning', <gensim.models.keyedvectors.Vocab at 0x7f61777cc6a0>),\n",
       " ('over', <gensim.models.keyedvectors.Vocab at 0x7f61777cc6d8>)]"
      ]
     },
     "execution_count": 80,
     "metadata": {},
     "output_type": "execute_result"
    }
   ],
   "source": [
    "# vocabulary\n",
    "list(w2v_model.wv.vocab.items())[:20]"
   ]
  },
  {
   "cell_type": "markdown",
   "metadata": {},
   "source": [
    "#### d. Embedding of a given word\n",
    "\n",
    "Now that you have trained your own Word2Vec, you can fetch the embedding of a given word by the following way. Notice that each word will be represented by a vector of **300** dimensions because this is the paremeter you passed while training."
   ]
  },
  {
   "cell_type": "code",
   "execution_count": 82,
   "metadata": {
    "scrolled": false
   },
   "outputs": [
    {
     "name": "stdout",
     "output_type": "stream",
     "text": [
      "shape of 'warning' vector: (300,)\n"
     ]
    }
   ],
   "source": [
    "# get trained embedding of the word 'warning'\n",
    "print('shape of \\'warning\\' vector:', w2v_model.wv.get_vector('warning').shape)"
   ]
  },
  {
   "cell_type": "markdown",
   "metadata": {},
   "source": [
    "#### e. Find contextually similar words; given a target word\n",
    "\n",
    "Now since you have trained the **Word2Vec** model, you can easily utilize this model to predict a list of words that are most similar to a given word based on it's context in the corpus."
   ]
  },
  {
   "cell_type": "code",
   "execution_count": 10,
   "metadata": {},
   "outputs": [
    {
     "data": {
      "text/plain": [
       "[('gas', 0.8974010944366455),\n",
       " ('giant', 0.8179374933242798),\n",
       " ('fuel', 0.8141058683395386),\n",
       " ('telecoms', 0.8004088401794434),\n",
       " ('energy', 0.7998166084289551),\n",
       " ('china', 0.7957749366760254),\n",
       " ('production', 0.7957689762115479),\n",
       " ('steel', 0.7839666604995728),\n",
       " ('rapid', 0.77938312292099),\n",
       " ('revenue', 0.7784941792488098)]"
      ]
     },
     "execution_count": 10,
     "metadata": {},
     "output_type": "execute_result"
    }
   ],
   "source": [
    "# find the words that are most similar to the word 'oil'\n",
    "words_oil = w2v_model.wv.most_similar('oil')\n",
    "words_oil"
   ]
  },
  {
   "cell_type": "code",
   "execution_count": 11,
   "metadata": {},
   "outputs": [
    {
     "data": {
      "text/plain": [
       "[('computer', 0.8795419931411743),\n",
       " ('desktop', 0.8555729389190674),\n",
       " ('machine', 0.8405307531356812),\n",
       " ('pocket', 0.8396756649017334),\n",
       " ('elements', 0.8348112106323242),\n",
       " ('copy', 0.8306844830513),\n",
       " ('graphics', 0.828892707824707),\n",
       " ('audio', 0.8194856643676758),\n",
       " ('computers', 0.8182631134986877),\n",
       " ('hardware', 0.8161558508872986)]"
      ]
     },
     "execution_count": 11,
     "metadata": {},
     "output_type": "execute_result"
    }
   ],
   "source": [
    "# find the words that are most similar to the word 'pc'\n",
    "words_pc = w2v_model.wv.most_similar('pc')\n",
    "words_pc"
   ]
  },
  {
   "cell_type": "markdown",
   "metadata": {},
   "source": [
    "**Note:** \n",
    " - You'd have noticed that the model is working pretty well given that it has only been trained on a small dataset of 2225 news articles and a vocabulary of 18588 words!\n",
    " - Searching for 'oil' returned entries like 'gas', 'energy' etc. with a high similarity score\n",
    " - Similarly when searched with 'pc', it returned entries like 'computer', 'machine', 'desktop' etc.\n",
    " \n",
    "#### f. Why to train your own embedding?\n",
    "\n",
    " - While you will learn in further sections that Google also provides a pre-trained Word2Vec that you can utilize for a project, there are some benefits of training your own model too.\n",
    " - One of them is that the word vectors would be derived from your dataset, so if you have reason to believe that the composition of your data is significantly different from the corpus used for the pre-trained vectors then that may result in better performance. \n",
    " - A good example would be if you are trying to build a model on Medical related data wherein there can be many terminilogies that won't be present in Word2Vec's training corpus then you'd surely have to train the model on your own corpus.\n",
    " - A thing to keep in mind while deciding is that training your own model is usually time and compute heavy."
   ]
  },
  {
   "cell_type": "markdown",
   "metadata": {},
   "source": [
    "### 3. Visualizing Word2Vec embeddings\n",
    "\n",
    "One of the most effective ways of understanding how word embeddings like Word2Vec work is to visualize them on a graph. Now that you have a newly trained Word2Vec model, you will go ahead and try to plot the same on a graph and then compare how do they work."
   ]
  },
  {
   "cell_type": "code",
   "execution_count": 12,
   "metadata": {},
   "outputs": [],
   "source": [
    "# generate similar word lists\n",
    "words_music = w2v_model.wv.most_similar('music')\n",
    "words_football = w2v_model.wv.most_similar('football')\n",
    "\n",
    "# combine word lists \n",
    "words = words_oil + words_music + words_football\n",
    "\n",
    "# extract only the word and not the similarity score\n",
    "words = list(map(lambda x: x[0], words))"
   ]
  },
  {
   "cell_type": "code",
   "execution_count": 13,
   "metadata": {},
   "outputs": [],
   "source": [
    "from matplotlib import pyplot\n",
    "from sklearn.decomposition import PCA\n",
    "\n",
    "# plots w2v embeddings of a given word list\n",
    "def plot_w2v(word_list):\n",
    "    X = w2v_model[word_list]\n",
    "    \n",
    "    # reduce dimensions to 2\n",
    "    pca = PCA(n_components=2)\n",
    "    result = pca.fit_transform(X)\n",
    "    \n",
    "    # create a scatter plot of the projection\n",
    "    pyplot.scatter(result[:, 0], result[:, 1])\n",
    "    for i, word in enumerate(word_list):\n",
    "        pyplot.annotate(word, xy=(result[i, 0], result[i, 1]))\n",
    "        \n",
    "    # show\n",
    "    pyplot.figure(figsize=(6,15))\n",
    "    pyplot.show()"
   ]
  },
  {
   "cell_type": "markdown",
   "metadata": {},
   "source": [
    "**Note:** \n",
    "\n",
    " - In order to plot the word embeddings on a X-Y axis, you need to reduce the dimensions from 300 to 2(X,Y) and for that purpose [PCA](https://www.analyticsvidhya.com/blog/2016/03/practical-guide-principal-component-analysis-python/) is used. Don't worry about it much right now.\n",
    " - Let's have a look at the plot!\n"
   ]
  },
  {
   "cell_type": "code",
   "execution_count": 14,
   "metadata": {},
   "outputs": [
    {
     "name": "stderr",
     "output_type": "stream",
     "text": [
      "/opt/anaconda/lib/python3.6/site-packages/ipykernel_launcher.py:6: DeprecationWarning: Call to deprecated `__getitem__` (Method will be removed in 4.0.0, use self.wv.__getitem__() instead).\n",
      "  \n"
     ]
    },
    {
     "data": {
      "image/png": "[encoded data removed]",
      "text/plain": [
       "<matplotlib.figure.Figure at 0x7f617410d400>"
      ]
     },
     "metadata": {},
     "output_type": "display_data"
    },
    {
     "data": {
      "text/plain": [
       "<matplotlib.figure.Figure at 0x7f615d85e898>"
      ]
     },
     "metadata": {},
     "output_type": "display_data"
    }
   ],
   "source": [
    "# plot w2v embeddings\n",
    "plot_w2v(words)"
   ]
  },
  {
   "cell_type": "markdown",
   "metadata": {},
   "source": [
    "**Note:**\n",
    " - You have plotted word2vec of 3 topics: namely 'oil', 'music' and 'football'. Notice that all the words have roughly been aligned into 3 major clusters.\n",
    " - Words like 'scottish', 'rugby', 'premier' and 'pro' fall in the 'football' cluster.\n",
    " - Words like 'energy', 'fuel', 'gas' fall in the 'oil' cluster.\n",
    " - Words like 'sound', 'audio', 'recorders' fall in the 'music' cluster.\n",
    " \n",
    "The above visualization gives an intution of how Word2Vec is able to give such good results by representing the words into higher dimensional vector space."
   ]
  },
  {
   "cell_type": "markdown",
   "metadata": {},
   "source": [
    "### 4. Utilizing Google's pre-trained Word2Vec\n",
    "\n",
    " - Training your own Word2Vec might be needed for some NLP problems but it comes with several overheads like computation power, need of a large training corpus and training time.\n",
    " - Google has released a pre-trained Word2Vec model that has the advantage of being trained on **Google's News data set of 3 million words**.\n",
    " - Most of the NLP tasks can be solved by using some variant of this pre-trained model. Hence, in this section you will learn how to install and utilize it.\n",
    "\n",
    "#### a. Installing\n",
    "\n",
    " - Once you have finished downloading, you need to decompress the file by the following command.\n",
    " \n",
    " `gzip -d GoogleNews-vectors-negative300.bin.gz`\n",
    " - Now that you have the model downloaded and ready, let's see how to import it in Gensim."
   ]
  },
  {
   "cell_type": "code",
   "execution_count": 15,
   "metadata": {},
   "outputs": [],
   "source": [
    "from gensim.models import KeyedVectors\n",
    "\n",
    "# path of the downloaded model\n",
    "filename = '../embeddings/GoogleNews-vectors-negative300.bin'\n",
    "# load into gensim\n",
    "w2vec = KeyedVectors.load_word2vec_format(filename, binary=True)"
   ]
  },
  {
   "cell_type": "markdown",
   "metadata": {},
   "source": [
    "Once you have executed the above code, your word2vec model is finally installed and loaded in gensim. Let's explore some of the features of this model.\n",
    "\n",
    "#### b. Contextual relationship between words\n",
    "\n",
    " - One of the impressive things about word2vec is it's ability to capture semantic relationship between words. That is the reason that you can do cool stuff like perform linear algebra on words and get an appropriate output. Have a look at the following example:\n",
    "\n",
    "    `airplane - fly + drive = car`\n",
    "\n",
    " - If you pass the left hand side of the above equation to the model, it will give the right handside. Which makes sense because what would you get if you remove the ability to fly from an airplane? And add the ability to drive? You would get a car!\n",
    " - The underlying model is able to understand implicit relationship between airplane and fly and also how removing the medium of travel changes the machine used to travel. \n",
    " - It is also able to understand **how what fly is to airplane similarly drive is to a car.**"
   ]
  },
  {
   "cell_type": "code",
   "execution_count": 20,
   "metadata": {},
   "outputs": [
    {
     "data": {
      "text/plain": [
       "[('car', 0.511200487613678),\n",
       " ('drives', 0.47777241468429565),\n",
       " ('automobile', 0.45616623759269714),\n",
       " ('vehicle', 0.44856154918670654),\n",
       " ('SUV', 0.44360122084617615)]"
      ]
     },
     "execution_count": 20,
     "metadata": {},
     "output_type": "execute_result"
    }
   ],
   "source": [
    "# airplane - fly + drive\n",
    "w2vec.most_similar(positive=['airplane', 'drive'], negative=['fly'], topn=5)"
   ]
  },
  {
   "cell_type": "markdown",
   "metadata": {},
   "source": [
    "Here are a few other examples\n",
    "\n",
    "1. `king - man + woman = queen`\n",
    "Removing man from kind and adding woman gives queen.\n",
    "2. `moscow - russia + japan = tokyo`\n",
    "Removing russia from moscow(capital of russia) and adding japan gives tokyo(capital of japan)"
   ]
  },
  {
   "cell_type": "code",
   "execution_count": 33,
   "metadata": {},
   "outputs": [
    {
     "name": "stdout",
     "output_type": "stream",
     "text": [
      "[('queen', 0.7118192911148071), ('monarch', 0.6189674139022827), ('princess', 0.5902431607246399), ('crown_prince', 0.5499460697174072), ('prince', 0.5377321243286133)]\n",
      "[('tokyo', 0.49488699436187744), ('hawaii', 0.4802300035953522), ('malta', 0.4749153256416321), ('japanese', 0.45723214745521545), ('seattle', 0.4502826929092407)]\n"
     ]
    }
   ],
   "source": [
    "# king - man + woman\n",
    "print(w2vec.most_similar(positive=['king', 'woman'], negative=['man'], topn=5))\n",
    "# moscow - russia + japan\n",
    "print(w2vec.most_similar(positive=['moscow', 'japan'], negative=['russia'], topn=5))"
   ]
  },
  {
   "cell_type": "markdown",
   "metadata": {},
   "source": [
    "### 5. Text Classification using Word2Vec\n",
    "\n",
    "Let's now get back to our BBC News data set, here you are going to solve the same problem that was solved in **Count Vector, TFIDF Representations of Text** NB by using Word2Vec as a text feature.\n",
    "\n",
    " - Word2Vec gives vector representation of individual words, in order to find the same for a statement or a document you can mean the vectors of it's words.\n",
    " - This is what is being done in the `get_embedding_w2v()`. It iterates through all the words in a document/statement and extracts the vector for them if they are present in the vocabulary of the word2vec model.\n"
   ]
  },
  {
   "cell_type": "code",
   "execution_count": 62,
   "metadata": {},
   "outputs": [],
   "source": [
    "# returns vector reperesentation of a given word if it is present in vocabulary\n",
    "def get_embedding_w2v(doc_tokens, pre_trained):\n",
    "    embeddings = []\n",
    "    # if pre_trained = 1; use Google's model else use our own model\n",
    "    if pre_trained:\n",
    "        model = w2vec\n",
    "    else:\n",
    "        model = w2v_model\n",
    "    # iterate over tokens to extract their vectors    \n",
    "    for tok in doc_tokens:\n",
    "        if tok in model.wv.vocab:\n",
    "            embeddings.append(model.wv.word_vec(tok))\n",
    "    # mean the vectors of individual words to get the vector of the statement\n",
    "    return np.mean(embeddings, axis=0)"
   ]
  },
  {
   "cell_type": "markdown",
   "metadata": {},
   "source": [
    "**Note:**\n",
    "- Now that is done, you will be doing a bit of preprocessing of the dataset and splitting it in train and test sets just like what you have been doing till now.\n",
    "- Let's first build a model on the model you initially trained yourself. We will then compare the results from both the models.\n",
    "\n",
    "#### a. Using your own model\n",
    "\n",
    " - Generate vector representation for each document. Note that here `pre_trained=0` should be used.\n",
    " - Label encode the prediction column ('label').\n",
    " - Create the X data set and split it into train and test sets.\n",
    " - Train a text classification (Naive Bayes) model and compute it's accuracy."
   ]
  },
  {
   "cell_type": "code",
   "execution_count": 66,
   "metadata": {},
   "outputs": [
    {
     "name": "stdout",
     "output_type": "stream",
     "text": [
      "X shape: (2225, 300)\n"
     ]
    }
   ],
   "source": [
    "# general preprocessing\n",
    "from sklearn.preprocessing import LabelEncoder\n",
    "from sklearn.model_selection import train_test_split\n",
    "\n",
    "# create X from w2vec\n",
    "X_w2v_model = preprocessed_bbc.apply(lambda x: get_embedding_w2v(x, pre_trained=0))\n",
    "X_w2v_model = pd.DataFrame(X_w2v_model.tolist())\n",
    "print('X shape:', X_w2v_model.shape)\n",
    "\n",
    "\n",
    "# label encode the 'label' \n",
    "lencod = LabelEncoder()\n",
    "# fit_transform() converts the text to numbers\n",
    "bbc_news.label = lencod.fit_transform(bbc_news.label)\n",
    "\n",
    "# split into train and test\n",
    "y = bbc_news.label\n",
    "X_train_wm, X_test_wm, y_train_wm, y_test_wm = train_test_split(X_w2v_model, y, test_size=0.2, random_state=42)"
   ]
  },
  {
   "cell_type": "code",
   "execution_count": 69,
   "metadata": {},
   "outputs": [
    {
     "name": "stdout",
     "output_type": "stream",
     "text": [
      "Accuracy: 89.8876404494382 %\n"
     ]
    }
   ],
   "source": [
    "# build a text classification model\n",
    "from sklearn.naive_bayes import GaussianNB\n",
    "from sklearn.metrics import accuracy_score\n",
    "\n",
    "# Initialize GaussianNB classifier\n",
    "model_1 = GaussianNB()\n",
    "# Fit the model on the train dataset\n",
    "model_1 = model_1.fit(X_train_wm, y_train_wm)\n",
    "# Make predictions on the test dataset\n",
    "pred_1 = model_1.predict(X_test_wm)\n",
    "\n",
    "# check the accuracy of the model\n",
    "print(\"Accuracy:\", accuracy_score(y_test_wm, pred_1)*100, \"%\")"
   ]
  },
  {
   "cell_type": "markdown",
   "metadata": {},
   "source": [
    "#### b. Using Google's pre-trained model\n",
    "\n",
    " - Generate vector representation for each document. Note that here `pre_trained=1` should be used.\n",
    " - Create the X data set and split it into train and test sets.\n",
    " - Train a text classification (Naive Bayes) model and compute it's accuracy."
   ]
  },
  {
   "cell_type": "code",
   "execution_count": 68,
   "metadata": {},
   "outputs": [
    {
     "name": "stderr",
     "output_type": "stream",
     "text": [
      "/opt/anaconda/lib/python3.6/site-packages/ipykernel_launcher.py:11: DeprecationWarning: Call to deprecated `wv` (Attribute will be removed in 4.0.0, use self instead).\n",
      "  # This is added back by InteractiveShellApp.init_path()\n",
      "/opt/anaconda/lib/python3.6/site-packages/ipykernel_launcher.py:12: DeprecationWarning: Call to deprecated `wv` (Attribute will be removed in 4.0.0, use self instead).\n",
      "  if sys.path[0] == '':\n"
     ]
    },
    {
     "name": "stdout",
     "output_type": "stream",
     "text": [
      "X shape: (2225, 300)\n"
     ]
    }
   ],
   "source": [
    "# general preprocessing\n",
    "from sklearn.model_selection import train_test_split\n",
    "\n",
    "# create X from w2vec\n",
    "X_w2v = preprocessed_bbc.apply(lambda x: get_embedding_w2v(x, pre_trained=1))\n",
    "X_w2v = pd.DataFrame(X_w2v.tolist())\n",
    "print('X shape:', X_w2v.shape)\n",
    "\n",
    "# split into train and test\n",
    "y = bbc_news.label\n",
    "X_train_wv, X_test_wv, y_train_wv, y_test_wv = train_test_split(X_w2v, y, test_size=0.2, random_state=42)"
   ]
  },
  {
   "cell_type": "code",
   "execution_count": 70,
   "metadata": {},
   "outputs": [
    {
     "name": "stdout",
     "output_type": "stream",
     "text": [
      "Accuracy: 92.80898876404494 %\n"
     ]
    }
   ],
   "source": [
    "# build a text classification model\n",
    "from sklearn.naive_bayes import GaussianNB\n",
    "from sklearn.metrics import accuracy_score\n",
    "\n",
    "# Initialize GaussianNB classifier\n",
    "model_2 = GaussianNB()\n",
    "# Fit the model on the train dataset\n",
    "model_2 = model_2.fit(X_train_wv, y_train_wv)\n",
    "# Make predictions on the test dataset\n",
    "pred_2 = model_2.predict(X_test_wv)\n",
    "\n",
    "# check the accuracy of the model\n",
    "print(\"Accuracy:\", accuracy_score(y_test_wv, pred_2)*100, \"%\")"
   ]
  },
  {
   "cell_type": "markdown",
   "metadata": {},
   "source": [
    "### 6. Conclusion\n",
    "\n",
    " - The accuracy of using Google's pre-trained model (92.8 %) is higher than our own model's (89.8 %); this is because we have trained on a small vocabulary of around 18,000 words while the other has been trained on a rich vocabulary of 3 million words. The more rich the vocabulary is, the better the model generates the semantic vectors of a word.\n",
    " \n",
    " - Notice that the current accuracy can be improved further by parameter tuning the model or using a more complex model.\n",
    " - We covered a lot in this notebook, I hope that you know have a solid understanding of Word2Vec can be used in real world projects and hopefully you got an idea on how to efficiently code it.\n",
    " - Next we will take a closer look on another embedding: Glove which is designed by Stanford."
   ]
  }
 ],
 "metadata": {
  "kernelspec": {
   "display_name": "Python 3",
   "language": "python",
   "name": "python3"
  },
  "language_info": {
   "codemirror_mode": {
    "name": "ipython",
    "version": 3
   },
   "file_extension": ".py",
   "mimetype": "text/x-python",
   "name": "python",
   "nbconvert_exporter": "python",
   "pygments_lexer": "ipython3",
   "version": "3.6.2"
  }
 },
 "nbformat": 4,
 "nbformat_minor": 2
}
